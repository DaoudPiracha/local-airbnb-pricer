{
 "cells": [
  {
   "cell_type": "code",
   "execution_count": 485,
   "metadata": {
    "collapsed": false
   },
   "outputs": [],
   "source": [
    "import pandas as pd\n",
    "%matplotlib inline\n",
    "\n",
    "import matplotlib\n",
    "import numpy as np\n",
    "import matplotlib.pyplot as plt\n",
    "import tensorflow as tf\n",
    "import keras\n",
    "from keras.layers import BatchNormalization\n",
    "from keras.layers.core import Dense, Activation, Dropout\n",
    "from keras.layers.recurrent import LSTM\n",
    "from keras.models import Sequential\n",
    "from keras.initializers import VarianceScaling, Constant\n",
    "from sklearn.metrics import mean_squared_error\n",
    "from sklearn.preprocessing import MinMaxScaler, StandardScaler\n",
    "from keras.callbacks import ModelCheckpoint, ReduceLROnPlateau\n",
    "from keras import backend as K\n",
    "\n",
    "import time\n",
    "import sklearn as skl\n",
    "import numpy as np\n"
   ]
  },
  {
   "cell_type": "code",
   "execution_count": 140,
   "metadata": {
    "collapsed": false
   },
   "outputs": [],
   "source": [
    "df = pd.read_csv(\"./Montreal AirBnb/listings.csv\")\n",
    "df2 = pd.read_csv(\"./Montreal AirBnb/calendar.csv\")\n",
    "df3 = pd.read_csv(\"./Montreal AirBnb/reviews.csv\")"
   ]
  },
  {
   "cell_type": "code",
   "execution_count": 260,
   "metadata": {
    "collapsed": false
   },
   "outputs": [],
   "source": [
    "finaldf = pd.DataFrame()"
   ]
  },
  {
   "cell_type": "code",
   "execution_count": 415,
   "metadata": {
    "collapsed": false
   },
   "outputs": [],
   "source": [
    "finaldf[\"id\"]= df[\"id\"]\n",
    "finaldf[\"lat\"] = df[\"latitude\"]\n",
    "finaldf[\"long\"] = df[\"longitude\"]\n",
    "finaldf[\"property_type\"]=df[\"property_type\"]\n",
    "finaldf = labeler(\"property_type\")\n",
    "finaldf[\"room_type\"] =df[\"room_type\"]\n",
    "finaldf = labeler(\"room_type\")\n",
    "finaldf[\"people\"]=df[\"accommodates\"]\n",
    "finaldf[\"reviews\"] = df[\"number_of_reviews\"]\n",
    "finaldf[\"bedrooms\"] = df[\"bedrooms\"].fillna(0)\n",
    "finaldf[\"bathrooms\"]=df[\"bathrooms\"].fillna(0)\n",
    "finaldf[\"no. beds\"] = df[\"beds\"]\n",
    "finaldf[\"response rate\"]= df[\"host_response_rate\"].fillna(0)\n",
    "finaldf[\"superhost\"] = df[\"host_is_superhost\"]\n",
    "finaldf[\"verified identity\"] = df[\"host_identity_verified\"]\n",
    "finaldf[\"neighbourhood\"]=df[\"neighbourhood_cleansed\"]\n",
    "finaldf = labeler(\"neighbourhood\")\n",
    "finaldf[\"guests\"]= df[\"guests_included\"]\n",
    "#final[\"guests charged\"] = \n",
    "finaldf[\"min_nights\"]=df[\"minimum_nights\"]\n",
    "finaldf[\"review rating\"] = (df[\"review_scores_rating\"]/100).fillna(0)\n",
    "finaldf[\"instant bookable\"]=df[\"instant_bookable\"]\n",
    "finaldf[\"cancellation_cat\"] = df[\"cancellation_policy\"]\n",
    "finaldf = labeler(\"cancellation_cat\")\n",
    "\n",
    "#use lat long to count no. of competitiors with same radius(or square window)\n",
    "\n",
    "#finaldf[\"price\"]=df[\"price\"]\n",
    "\n",
    "finaldf = finaldf.replace({'superhost': {'t': 1, 'f': 0}}).fillna(0)\n",
    "finaldf = finaldf.replace({'verified identity': {'t': 1, 'f': 0}}).fillna(0)\n",
    "finaldf = finaldf.replace({'instant bookable':{'t':1, 'f':0}}).fillna(0)\n",
    "#finaldf = finaldf.replace({'cancellation policy':{'flexible':1,'moderate':2,'strict':3}})\n",
    "#finaldf[\"cancellation_cat\"] = finaldf[\"cancellation_cat\"].astype('category')\n",
    "#finaldf[\"cancellation_cat\"] = finaldf[\"cancellation_cat\"].cat.codes\n",
    "\n"
   ]
  },
  {
   "cell_type": "code",
   "execution_count": 417,
   "metadata": {
    "collapsed": false
   },
   "outputs": [],
   "source": [
    "#df2.fillna(-1)\n",
    "#final[\"avg. price\"] = \n",
    "pandas.set_option('display.max_columns', None)\n"
   ]
  },
  {
   "cell_type": "code",
   "execution_count": 418,
   "metadata": {
    "collapsed": false
   },
   "outputs": [],
   "source": [
    "def labeler(name):\n",
    "    finaldf[name]=finaldf[name].astype('category')\n",
    "    finaldf[name]=finaldf[name].cat.codes\n",
    "    return finaldf"
   ]
  },
  {
   "cell_type": "code",
   "execution_count": 419,
   "metadata": {
    "collapsed": false
   },
   "outputs": [],
   "source": [
    "lat = finaldf[\"lat\"]\n",
    "long = finaldf[\"long\"]\n"
   ]
  },
  {
   "cell_type": "code",
   "execution_count": 420,
   "metadata": {
    "collapsed": false
   },
   "outputs": [],
   "source": [
    "#finaldf.plot(kind = \"scatter\", x='lat', y='long', figsize=(20,10));"
   ]
  },
  {
   "cell_type": "code",
   "execution_count": 421,
   "metadata": {
    "collapsed": false
   },
   "outputs": [],
   "source": [
    "#finaldf.head()"
   ]
  },
  {
   "cell_type": "code",
   "execution_count": 422,
   "metadata": {
    "collapsed": false
   },
   "outputs": [],
   "source": [
    "#for i in range(0,111):\n",
    "#    print(\"_________\")\n",
    "#    print(df2[(i*365):((i+1)*365)][\"price\"].dropna().describe())   "
   ]
  },
  {
   "cell_type": "code",
   "execution_count": 423,
   "metadata": {
    "collapsed": true
   },
   "outputs": [],
   "source": [
    "pricedf = df2[(df2['date'] > '2016-11-01') & (df2['date'] < '2016-12-01')].dropna()\n",
    "#pricedf =pricedf[\"unique\" != True]\n",
    "pricedf[\"id\"]=pricedf[\"listing_id\"]\n",
    "pricedf[\"listing_id\"]=pricedf[\"listing_id\"].drop_duplicates()\n",
    "pricedf = pricedf.dropna()\n",
    "pricedf.head()\n",
    "result = pd.merge(finaldf, pricedf, on=\"id\")\n",
    "result = result.drop(['listing_id', 'date', 'available'], axis = 1)\n",
    "result[\"price\"] = result[\"price\"].replace([\"\\$\", ','],\"\", regex=True).astype(float)\n",
    "result[\"response rate\"] = result[\"response rate\"].replace([\"%\"],\"\", regex=True).astype(float)/100\n",
    "result = result.sample(frac=1).reset_index(drop=True)\n",
    "\n",
    "\n",
    "features = result.drop([\"id\", \"price\"],axis =1)"
   ]
  },
  {
   "cell_type": "code",
   "execution_count": 466,
   "metadata": {
    "collapsed": false
   },
   "outputs": [
    {
     "data": {
      "text/html": [
       "<div>\n",
       "<style>\n",
       "    .dataframe thead tr:only-child th {\n",
       "        text-align: right;\n",
       "    }\n",
       "\n",
       "    .dataframe thead th {\n",
       "        text-align: left;\n",
       "    }\n",
       "\n",
       "    .dataframe tbody tr th {\n",
       "        vertical-align: top;\n",
       "    }\n",
       "</style>\n",
       "<table border=\"1\" class=\"dataframe\">\n",
       "  <thead>\n",
       "    <tr style=\"text-align: right;\">\n",
       "      <th></th>\n",
       "      <th>id</th>\n",
       "      <th>lat</th>\n",
       "      <th>long</th>\n",
       "      <th>property_type</th>\n",
       "      <th>room_type</th>\n",
       "      <th>people</th>\n",
       "      <th>reviews</th>\n",
       "      <th>bedrooms</th>\n",
       "      <th>bathrooms</th>\n",
       "      <th>no. beds</th>\n",
       "      <th>response rate</th>\n",
       "      <th>superhost</th>\n",
       "      <th>verified identity</th>\n",
       "      <th>neighbourhood</th>\n",
       "      <th>guests</th>\n",
       "      <th>min_nights</th>\n",
       "      <th>review rating</th>\n",
       "      <th>instant bookable</th>\n",
       "      <th>cancellation_cat</th>\n",
       "      <th>price</th>\n",
       "    </tr>\n",
       "  </thead>\n",
       "  <tbody>\n",
       "    <tr>\n",
       "      <th>0</th>\n",
       "      <td>6265611</td>\n",
       "      <td>45.470377</td>\n",
       "      <td>-73.615515</td>\n",
       "      <td>10</td>\n",
       "      <td>1</td>\n",
       "      <td>2</td>\n",
       "      <td>18</td>\n",
       "      <td>1.0</td>\n",
       "      <td>1.0</td>\n",
       "      <td>1.0</td>\n",
       "      <td>1.00</td>\n",
       "      <td>0.0</td>\n",
       "      <td>0</td>\n",
       "      <td>5</td>\n",
       "      <td>1</td>\n",
       "      <td>2</td>\n",
       "      <td>0.87</td>\n",
       "      <td>0</td>\n",
       "      <td>2</td>\n",
       "      <td>30.0</td>\n",
       "    </tr>\n",
       "    <tr>\n",
       "      <th>1</th>\n",
       "      <td>9138070</td>\n",
       "      <td>45.520309</td>\n",
       "      <td>-73.561487</td>\n",
       "      <td>0</td>\n",
       "      <td>0</td>\n",
       "      <td>4</td>\n",
       "      <td>0</td>\n",
       "      <td>2.0</td>\n",
       "      <td>1.0</td>\n",
       "      <td>2.0</td>\n",
       "      <td>0.83</td>\n",
       "      <td>0.0</td>\n",
       "      <td>0</td>\n",
       "      <td>29</td>\n",
       "      <td>1</td>\n",
       "      <td>3</td>\n",
       "      <td>0.00</td>\n",
       "      <td>0</td>\n",
       "      <td>0</td>\n",
       "      <td>100.0</td>\n",
       "    </tr>\n",
       "    <tr>\n",
       "      <th>2</th>\n",
       "      <td>5236198</td>\n",
       "      <td>45.520119</td>\n",
       "      <td>-73.559368</td>\n",
       "      <td>0</td>\n",
       "      <td>1</td>\n",
       "      <td>2</td>\n",
       "      <td>0</td>\n",
       "      <td>1.0</td>\n",
       "      <td>1.0</td>\n",
       "      <td>1.0</td>\n",
       "      <td>0.00</td>\n",
       "      <td>0.0</td>\n",
       "      <td>0</td>\n",
       "      <td>29</td>\n",
       "      <td>1</td>\n",
       "      <td>1</td>\n",
       "      <td>0.00</td>\n",
       "      <td>0</td>\n",
       "      <td>3</td>\n",
       "      <td>45.0</td>\n",
       "    </tr>\n",
       "    <tr>\n",
       "      <th>3</th>\n",
       "      <td>6337948</td>\n",
       "      <td>45.527408</td>\n",
       "      <td>-73.557949</td>\n",
       "      <td>0</td>\n",
       "      <td>1</td>\n",
       "      <td>2</td>\n",
       "      <td>30</td>\n",
       "      <td>1.0</td>\n",
       "      <td>1.0</td>\n",
       "      <td>1.0</td>\n",
       "      <td>1.00</td>\n",
       "      <td>1.0</td>\n",
       "      <td>1</td>\n",
       "      <td>29</td>\n",
       "      <td>1</td>\n",
       "      <td>2</td>\n",
       "      <td>0.98</td>\n",
       "      <td>1</td>\n",
       "      <td>2</td>\n",
       "      <td>55.0</td>\n",
       "    </tr>\n",
       "    <tr>\n",
       "      <th>4</th>\n",
       "      <td>7931203</td>\n",
       "      <td>45.559480</td>\n",
       "      <td>-73.571488</td>\n",
       "      <td>0</td>\n",
       "      <td>1</td>\n",
       "      <td>2</td>\n",
       "      <td>3</td>\n",
       "      <td>1.0</td>\n",
       "      <td>1.0</td>\n",
       "      <td>1.0</td>\n",
       "      <td>1.00</td>\n",
       "      <td>0.0</td>\n",
       "      <td>0</td>\n",
       "      <td>24</td>\n",
       "      <td>1</td>\n",
       "      <td>1</td>\n",
       "      <td>1.00</td>\n",
       "      <td>0</td>\n",
       "      <td>0</td>\n",
       "      <td>56.0</td>\n",
       "    </tr>\n",
       "  </tbody>\n",
       "</table>\n",
       "</div>"
      ],
      "text/plain": [
       "        id        lat       long  property_type  room_type  people  reviews  \\\n",
       "0  6265611  45.470377 -73.615515             10          1       2       18   \n",
       "1  9138070  45.520309 -73.561487              0          0       4        0   \n",
       "2  5236198  45.520119 -73.559368              0          1       2        0   \n",
       "3  6337948  45.527408 -73.557949              0          1       2       30   \n",
       "4  7931203  45.559480 -73.571488              0          1       2        3   \n",
       "\n",
       "   bedrooms  bathrooms  no. beds  response rate  superhost  verified identity  \\\n",
       "0       1.0        1.0       1.0           1.00        0.0                  0   \n",
       "1       2.0        1.0       2.0           0.83        0.0                  0   \n",
       "2       1.0        1.0       1.0           0.00        0.0                  0   \n",
       "3       1.0        1.0       1.0           1.00        1.0                  1   \n",
       "4       1.0        1.0       1.0           1.00        0.0                  0   \n",
       "\n",
       "   neighbourhood  guests  min_nights  review rating  instant bookable  \\\n",
       "0              5       1           2           0.87                 0   \n",
       "1             29       1           3           0.00                 0   \n",
       "2             29       1           1           0.00                 0   \n",
       "3             29       1           2           0.98                 1   \n",
       "4             24       1           1           1.00                 0   \n",
       "\n",
       "   cancellation_cat  price  \n",
       "0                 2   30.0  \n",
       "1                 0  100.0  \n",
       "2                 3   45.0  \n",
       "3                 2   55.0  \n",
       "4                 0   56.0  "
      ]
     },
     "execution_count": 466,
     "metadata": {},
     "output_type": "execute_result"
    }
   ],
   "source": [
    "temp = result[\"price\"]\n",
    "count_nan = len(features) - features.count()\n",
    "count_nan\n",
    "result.head()"
   ]
  },
  {
   "cell_type": "markdown",
   "metadata": {},
   "source": [
    "# Result\n",
    "So basically, we have the ID's, lat, long and then a bunch of columns of features(X vector) and then we have Price as the last column which will be our Y\n",
    "\n",
    "This is done for Nov-Dec 2016.\n",
    "Now to integrate with the other feature vectors and get the neural net working"
   ]
  },
  {
   "cell_type": "code",
   "execution_count": 459,
   "metadata": {
    "collapsed": true
   },
   "outputs": [],
   "source": [
    "#setting x_train, x_test, y_train, y_test \n",
    "def setTestTrain(featuresDf, splitLast):\n",
    "    \n",
    "    x_train = featuresDf.values[:-splitLast]\n",
    "    \n",
    "    y_train = result[\"price\"].values[:-splitLast]\n",
    "    \n",
    "    x_test = featuresDf.values[-splitLast:]\n",
    "    y_test = result[\"price\"].values[-splitLast:]\n",
    "    \n",
    "    #x_train = np.reshape(x_train, (x_train.shape[0], x_train.shape[1], 1))\n",
    "    #x_test = np.reshape(x_test, (x_test.shape[0], x_test.shape[1], 1))  \n",
    "\n",
    "\n",
    "    return x_train, y_train, x_test, y_test\n",
    "def root_mean_squared_error(y_true, y_pred):\n",
    "        return K.sqrt(K.mean(K.square(y_pred - y_true), axis=-1)) \n",
    "\n",
    "\n",
    "#building model\n",
    "def build_model(layer1, layer2, layer3, layer4):\n",
    "    model = Sequential()\n",
    "    model.add(Dense(layer1, input_dim=18, activation='selu',kernel_initializer='he_normal'))\n",
    "    model.add(BatchNormalization())\n",
    "    model.add(Dropout(0.2))\n",
    "\n",
    "    model.add(Dense(layer2, activation='selu',kernel_initializer='he_normal'))\n",
    "    model.add(BatchNormalization())\n",
    "    model.add(Dropout(0.2))\n",
    "    \n",
    "\n",
    "    model.add(Dense(layer3, activation='selu',kernel_initializer='he_normal'))\n",
    "    model.add(BatchNormalization())\n",
    "    model.add(Dropout(0.2))\n",
    "    \n",
    "    model.add(Dense(layer4, activation='selu',kernel_initializer='he_normal'))\n",
    "    model.add(BatchNormalization())\n",
    "    model.add(Dropout(0.2))\n",
    "    \n",
    "    \n",
    "    model.add(Dense(1, activation='linear'))\n",
    "    \n",
    "    #compile\n",
    "    start = time.time()\n",
    "    model.compile(loss=root_mean_squared_error, optimizer=\"adamax\",metrics =[\"mse\"])\n",
    "    print(\"> Compilation Time : \", time.time() - start)\n",
    "    return model"
   ]
  },
  {
   "cell_type": "code",
   "execution_count": 491,
   "metadata": {
    "collapsed": false
   },
   "outputs": [
    {
     "name": "stdout",
     "output_type": "stream",
     "text": [
      "> Compilation Time :  0.08079886436462402\n",
      "_________________________________________________________________\n",
      "Layer (type)                 Output Shape              Param #   \n",
      "=================================================================\n",
      "dense_67 (Dense)             (None, 512)               9728      \n",
      "_________________________________________________________________\n",
      "batch_normalization_31 (Batc (None, 512)               2048      \n",
      "_________________________________________________________________\n",
      "dropout_47 (Dropout)         (None, 512)               0         \n",
      "_________________________________________________________________\n",
      "dense_68 (Dense)             (None, 256)               131328    \n",
      "_________________________________________________________________\n",
      "batch_normalization_32 (Batc (None, 256)               1024      \n",
      "_________________________________________________________________\n",
      "dropout_48 (Dropout)         (None, 256)               0         \n",
      "_________________________________________________________________\n",
      "dense_69 (Dense)             (None, 128)               32896     \n",
      "_________________________________________________________________\n",
      "batch_normalization_33 (Batc (None, 128)               512       \n",
      "_________________________________________________________________\n",
      "dropout_49 (Dropout)         (None, 128)               0         \n",
      "_________________________________________________________________\n",
      "dense_70 (Dense)             (None, 64)                8256      \n",
      "_________________________________________________________________\n",
      "batch_normalization_34 (Batc (None, 64)                256       \n",
      "_________________________________________________________________\n",
      "dropout_50 (Dropout)         (None, 64)                0         \n",
      "_________________________________________________________________\n",
      "dense_71 (Dense)             (None, 1)                 65        \n",
      "=================================================================\n",
      "Total params: 186,113\n",
      "Trainable params: 184,193\n",
      "Non-trainable params: 1,920\n",
      "_________________________________________________________________\n"
     ]
    }
   ],
   "source": [
    "x_train, y_train, x_test, y_test = setTestTrain(features, 1150)\n",
    "std_x_train = StandardScaler().fit_transform(x_train, y = y_train)\n",
    "min_x_train = MinMaxScaler(feature_range=(0, 1)).fit_transform(x_train, y = y_train)\n",
    "\n",
    "model = build_model(512,256,128,64)\n",
    "model.summary()\n"
   ]
  },
  {
   "cell_type": "code",
   "execution_count": 493,
   "metadata": {
    "collapsed": false
   },
   "outputs": [],
   "source": [
    "# checkpoint\n",
    "filepath=\"weights-improvement-{epoch:02d}-{val_loss:.2f}.hdf5\"\n",
    "checkpoint = ModelCheckpoint(filepath, monitor='val_loss', verbose=1, save_best_only=True, mode='min')\n",
    "reduce_lr = ReduceLROnPlateau(monitor='val_loss', factor=0.5, patience=5, min_lr=0.000001, verbose = 2)\n",
    "\n",
    "callbacks_list = [checkpoint, reduce_lr]"
   ]
  },
  {
   "cell_type": "code",
   "execution_count": null,
   "metadata": {
    "collapsed": false
   },
   "outputs": [],
   "source": [
    "model.fit(std_x_train, y_train, epochs=100, batch_size=8, validation_split = 0.2, callbacks=callbacks_list, verbose=1)"
   ]
  },
  {
   "cell_type": "markdown",
   "metadata": {},
   "source": [
    "pca, tsne, check features, go through feature selection algorithms\n",
    "batch norm, dropout\n",
    "xgboost, 3 layer 256 , relu, adamax, linear decay small, input then dropout\n",
    "shuffle before feeding into network\n"
   ]
  },
  {
   "cell_type": "code",
   "execution_count": 486,
   "metadata": {
    "collapsed": false
   },
   "outputs": [
    {
     "data": {
      "text/plain": [
       "array([[ 47.66233063],\n",
       "       [ 41.8419342 ],\n",
       "       [ 45.76735687],\n",
       "       ..., \n",
       "       [ 41.8520813 ],\n",
       "       [ 93.5235672 ],\n",
       "       [ 86.02532959]], dtype=float32)"
      ]
     },
     "execution_count": 486,
     "metadata": {},
     "output_type": "execute_result"
    }
   ],
   "source": [
    "model.predict(x_test)"
   ]
  },
  {
   "cell_type": "code",
   "execution_count": 484,
   "metadata": {
    "collapsed": false
   },
   "outputs": [],
   "source": [
    "coords = pd.DataFrame()\n",
    "coords[\"lat\"] = result[\"lat\"]\n",
    "coords[\"long\"] = result[\"long\"]\n",
    "coords.to_csv(\"coords.csv\")"
   ]
  },
  {
   "cell_type": "markdown",
   "metadata": {},
   "source": [
    "xtrain min max scaling (0,1)\n",
    "\n",
    "xtrain standard scaling\n"
   ]
  },
  {
   "cell_type": "code",
   "execution_count": 492,
   "metadata": {
    "collapsed": false
   },
   "outputs": [
    {
     "data": {
      "text/plain": [
       "array([[ 0.199861  ,  0.70238025,  0.73333333, ...,  0.87      ,\n",
       "         0.        ,  0.66666667],\n",
       "       [ 0.37612587,  0.82918874,  0.06666667, ...,  0.        ,\n",
       "         0.        ,  0.        ],\n",
       "       [ 0.37545306,  0.83416184,  0.06666667, ...,  0.        ,\n",
       "         0.        ,  1.        ],\n",
       "       ..., \n",
       "       [ 0.44059768,  0.79760421,  0.06666667, ...,  0.96      ,\n",
       "         0.        ,  1.        ],\n",
       "       [ 0.2826783 ,  0.82710837,  0.06666667, ...,  0.96      ,\n",
       "         0.        ,  1.        ],\n",
       "       [ 0.40604298,  0.80567841,  0.06666667, ...,  0.        ,\n",
       "         0.        ,  0.        ]])"
      ]
     },
     "execution_count": 492,
     "metadata": {},
     "output_type": "execute_result"
    }
   ],
   "source": [
    "min_x_train"
   ]
  },
  {
   "cell_type": "code",
   "execution_count": null,
   "metadata": {
    "collapsed": true
   },
   "outputs": [],
   "source": []
  }
 ],
 "metadata": {
  "anaconda-cloud": {},
  "kernelspec": {
   "display_name": "Python [conda env:snakes]",
   "language": "python",
   "name": "conda-env-snakes-py"
  },
  "language_info": {
   "codemirror_mode": {
    "name": "ipython",
    "version": 3
   },
   "file_extension": ".py",
   "mimetype": "text/x-python",
   "name": "python",
   "nbconvert_exporter": "python",
   "pygments_lexer": "ipython3",
   "version": "3.5.0"
  }
 },
 "nbformat": 4,
 "nbformat_minor": 1
}
