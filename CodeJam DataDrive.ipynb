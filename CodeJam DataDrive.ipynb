{
 "cells": [
  {
   "cell_type": "code",
   "execution_count": 485,
   "metadata": {
    "collapsed": false
   },
   "outputs": [],
   "source": [
    "import pandas as pd\n",
    "%matplotlib inline\n",
    "\n",
    "import matplotlib\n",
    "import numpy as np\n",
    "import matplotlib.pyplot as plt\n",
    "import tensorflow as tf\n",
    "import keras\n",
    "from keras.layers import BatchNormalization\n",
    "from keras.layers.core import Dense, Activation, Dropout\n",
    "from keras.layers.recurrent import LSTM\n",
    "from keras.models import Sequential\n",
    "from keras.initializers import VarianceScaling, Constant\n",
    "from sklearn.metrics import mean_squared_error\n",
    "from sklearn.preprocessing import MinMaxScaler, StandardScaler\n",
    "from keras.callbacks import ModelCheckpoint, ReduceLROnPlateau\n",
    "from keras import backend as K\n",
    "\n",
    "import time\n",
    "import sklearn as skl\n",
    "import numpy as np\n"
   ]
  },
  {
   "cell_type": "code",
   "execution_count": 140,
   "metadata": {
    "collapsed": false
   },
   "outputs": [],
   "source": [
    "df = pd.read_csv(\"./Montreal AirBnb/listings.csv\")\n",
    "df2 = pd.read_csv(\"./Montreal AirBnb/calendar.csv\")\n",
    "df3 = pd.read_csv(\"./Montreal AirBnb/reviews.csv\")"
   ]
  },
  {
   "cell_type": "code",
   "execution_count": 260,
   "metadata": {
    "collapsed": false
   },
   "outputs": [],
   "source": [
    "finaldf = pd.DataFrame()"
   ]
  },
  {
   "cell_type": "code",
   "execution_count": 415,
   "metadata": {
    "collapsed": false
   },
   "outputs": [],
   "source": [
    "finaldf[\"id\"]= df[\"id\"]\n",
    "finaldf[\"lat\"] = df[\"latitude\"]\n",
    "finaldf[\"long\"] = df[\"longitude\"]\n",
    "finaldf[\"property_type\"]=df[\"property_type\"]\n",
    "finaldf = labeler(\"property_type\")\n",
    "finaldf[\"room_type\"] =df[\"room_type\"]\n",
    "finaldf = labeler(\"room_type\")\n",
    "finaldf[\"people\"]=df[\"accommodates\"]\n",
    "finaldf[\"reviews\"] = df[\"number_of_reviews\"]\n",
    "finaldf[\"bedrooms\"] = df[\"bedrooms\"].fillna(0)\n",
    "finaldf[\"bathrooms\"]=df[\"bathrooms\"].fillna(0)\n",
    "finaldf[\"no. beds\"] = df[\"beds\"]\n",
    "finaldf[\"response rate\"]= df[\"host_response_rate\"].fillna(0)\n",
    "finaldf[\"superhost\"] = df[\"host_is_superhost\"]\n",
    "finaldf[\"verified identity\"] = df[\"host_identity_verified\"]\n",
    "finaldf[\"neighbourhood\"]=df[\"neighbourhood_cleansed\"]\n",
    "finaldf = labeler(\"neighbourhood\")\n",
    "finaldf[\"guests\"]= df[\"guests_included\"]\n",
    "#final[\"guests charged\"] = \n",
    "finaldf[\"min_nights\"]=df[\"minimum_nights\"]\n",
    "finaldf[\"review rating\"] = (df[\"review_scores_rating\"]/100).fillna(0)\n",
    "finaldf[\"instant bookable\"]=df[\"instant_bookable\"]\n",
    "finaldf[\"cancellation_cat\"] = df[\"cancellation_policy\"]\n",
    "finaldf = labeler(\"cancellation_cat\")\n",
    "\n",
    "#use lat long to count no. of competitiors with same radius(or square window)\n",
    "\n",
    "#finaldf[\"price\"]=df[\"price\"]\n",
    "\n",
    "finaldf = finaldf.replace({'superhost': {'t': 1, 'f': 0}}).fillna(0)\n",
    "finaldf = finaldf.replace({'verified identity': {'t': 1, 'f': 0}}).fillna(0)\n",
    "finaldf = finaldf.replace({'instant bookable':{'t':1, 'f':0}}).fillna(0)\n",
    "#finaldf = finaldf.replace({'cancellation policy':{'flexible':1,'moderate':2,'strict':3}})\n",
    "#finaldf[\"cancellation_cat\"] = finaldf[\"cancellation_cat\"].astype('category')\n",
    "#finaldf[\"cancellation_cat\"] = finaldf[\"cancellation_cat\"].cat.codes\n",
    "\n"
   ]
  },
  {
   "cell_type": "code",
   "execution_count": 417,
   "metadata": {
    "collapsed": false
   },
   "outputs": [],
   "source": [
    "#df2.fillna(-1)\n",
    "#final[\"avg. price\"] = \n",
    "pandas.set_option('display.max_columns', None)\n"
   ]
  },
  {
   "cell_type": "code",
   "execution_count": 418,
   "metadata": {
    "collapsed": false
   },
   "outputs": [],
   "source": [
    "def labeler(name):\n",
    "    finaldf[name]=finaldf[name].astype('category')\n",
    "    finaldf[name]=finaldf[name].cat.codes\n",
    "    return finaldf"
   ]
  },
  {
   "cell_type": "code",
   "execution_count": 419,
   "metadata": {
    "collapsed": false
   },
   "outputs": [],
   "source": [
    "lat = finaldf[\"lat\"]\n",
    "long = finaldf[\"long\"]\n"
   ]
  },
  {
   "cell_type": "code",
   "execution_count": 420,
   "metadata": {
    "collapsed": false
   },
   "outputs": [],
   "source": [
    "#finaldf.plot(kind = \"scatter\", x='lat', y='long', figsize=(20,10));"
   ]
  },
  {
   "cell_type": "code",
   "execution_count": 421,
   "metadata": {
    "collapsed": false
   },
   "outputs": [],
   "source": [
    "#finaldf.head()"
   ]
  },
  {
   "cell_type": "code",
   "execution_count": 422,
   "metadata": {
    "collapsed": false
   },
   "outputs": [],
   "source": [
    "#for i in range(0,111):\n",
    "#    print(\"_________\")\n",
    "#    print(df2[(i*365):((i+1)*365)][\"price\"].dropna().describe())   "
   ]
  },
  {
   "cell_type": "code",
   "execution_count": 423,
   "metadata": {
    "collapsed": true
   },
   "outputs": [],
   "source": [
    "pricedf = df2[(df2['date'] > '2016-11-01') & (df2['date'] < '2016-12-01')].dropna()\n",
    "#pricedf =pricedf[\"unique\" != True]\n",
    "pricedf[\"id\"]=pricedf[\"listing_id\"]\n",
    "pricedf[\"listing_id\"]=pricedf[\"listing_id\"].drop_duplicates()\n",
    "pricedf = pricedf.dropna()\n",
    "pricedf.head()\n",
    "result = pd.merge(finaldf, pricedf, on=\"id\")\n",
    "result = result.drop(['listing_id', 'date', 'available'], axis = 1)\n",
    "result[\"price\"] = result[\"price\"].replace([\"\\$\", ','],\"\", regex=True).astype(float)\n",
    "result[\"response rate\"] = result[\"response rate\"].replace([\"%\"],\"\", regex=True).astype(float)/100\n",
    "result = result.sample(frac=1).reset_index(drop=True)\n",
    "\n",
    "\n",
    "features = result.drop([\"id\", \"price\"],axis =1)"
   ]
  },
  {
   "cell_type": "code",
   "execution_count": 466,
   "metadata": {
    "collapsed": false
   },
   "outputs": [
    {
     "data": {
      "text/html": [
       "<div>\n",
       "<style>\n",
       "    .dataframe thead tr:only-child th {\n",
       "        text-align: right;\n",
       "    }\n",
       "\n",
       "    .dataframe thead th {\n",
       "        text-align: left;\n",
       "    }\n",
       "\n",
       "    .dataframe tbody tr th {\n",
       "        vertical-align: top;\n",
       "    }\n",
       "</style>\n",
       "<table border=\"1\" class=\"dataframe\">\n",
       "  <thead>\n",
       "    <tr style=\"text-align: right;\">\n",
       "      <th></th>\n",
       "      <th>id</th>\n",
       "      <th>lat</th>\n",
       "      <th>long</th>\n",
       "      <th>property_type</th>\n",
       "      <th>room_type</th>\n",
       "      <th>people</th>\n",
       "      <th>reviews</th>\n",
       "      <th>bedrooms</th>\n",
       "      <th>bathrooms</th>\n",
       "      <th>no. beds</th>\n",
       "      <th>response rate</th>\n",
       "      <th>superhost</th>\n",
       "      <th>verified identity</th>\n",
       "      <th>neighbourhood</th>\n",
       "      <th>guests</th>\n",
       "      <th>min_nights</th>\n",
       "      <th>review rating</th>\n",
       "      <th>instant bookable</th>\n",
       "      <th>cancellation_cat</th>\n",
       "      <th>price</th>\n",
       "    </tr>\n",
       "  </thead>\n",
       "  <tbody>\n",
       "    <tr>\n",
       "      <th>0</th>\n",
       "      <td>6265611</td>\n",
       "      <td>45.470377</td>\n",
       "      <td>-73.615515</td>\n",
       "      <td>10</td>\n",
       "      <td>1</td>\n",
       "      <td>2</td>\n",
       "      <td>18</td>\n",
       "      <td>1.0</td>\n",
       "      <td>1.0</td>\n",
       "      <td>1.0</td>\n",
       "      <td>1.00</td>\n",
       "      <td>0.0</td>\n",
       "      <td>0</td>\n",
       "      <td>5</td>\n",
       "      <td>1</td>\n",
       "      <td>2</td>\n",
       "      <td>0.87</td>\n",
       "      <td>0</td>\n",
       "      <td>2</td>\n",
       "      <td>30.0</td>\n",
       "    </tr>\n",
       "    <tr>\n",
       "      <th>1</th>\n",
       "      <td>9138070</td>\n",
       "      <td>45.520309</td>\n",
       "      <td>-73.561487</td>\n",
       "      <td>0</td>\n",
       "      <td>0</td>\n",
       "      <td>4</td>\n",
       "      <td>0</td>\n",
       "      <td>2.0</td>\n",
       "      <td>1.0</td>\n",
       "      <td>2.0</td>\n",
       "      <td>0.83</td>\n",
       "      <td>0.0</td>\n",
       "      <td>0</td>\n",
       "      <td>29</td>\n",
       "      <td>1</td>\n",
       "      <td>3</td>\n",
       "      <td>0.00</td>\n",
       "      <td>0</td>\n",
       "      <td>0</td>\n",
       "      <td>100.0</td>\n",
       "    </tr>\n",
       "    <tr>\n",
       "      <th>2</th>\n",
       "      <td>5236198</td>\n",
       "      <td>45.520119</td>\n",
       "      <td>-73.559368</td>\n",
       "      <td>0</td>\n",
       "      <td>1</td>\n",
       "      <td>2</td>\n",
       "      <td>0</td>\n",
       "      <td>1.0</td>\n",
       "      <td>1.0</td>\n",
       "      <td>1.0</td>\n",
       "      <td>0.00</td>\n",
       "      <td>0.0</td>\n",
       "      <td>0</td>\n",
       "      <td>29</td>\n",
       "      <td>1</td>\n",
       "      <td>1</td>\n",
       "      <td>0.00</td>\n",
       "      <td>0</td>\n",
       "      <td>3</td>\n",
       "      <td>45.0</td>\n",
       "    </tr>\n",
       "    <tr>\n",
       "      <th>3</th>\n",
       "      <td>6337948</td>\n",
       "      <td>45.527408</td>\n",
       "      <td>-73.557949</td>\n",
       "      <td>0</td>\n",
       "      <td>1</td>\n",
       "      <td>2</td>\n",
       "      <td>30</td>\n",
       "      <td>1.0</td>\n",
       "      <td>1.0</td>\n",
       "      <td>1.0</td>\n",
       "      <td>1.00</td>\n",
       "      <td>1.0</td>\n",
       "      <td>1</td>\n",
       "      <td>29</td>\n",
       "      <td>1</td>\n",
       "      <td>2</td>\n",
       "      <td>0.98</td>\n",
       "      <td>1</td>\n",
       "      <td>2</td>\n",
       "      <td>55.0</td>\n",
       "    </tr>\n",
       "    <tr>\n",
       "      <th>4</th>\n",
       "      <td>7931203</td>\n",
       "      <td>45.559480</td>\n",
       "      <td>-73.571488</td>\n",
       "      <td>0</td>\n",
       "      <td>1</td>\n",
       "      <td>2</td>\n",
       "      <td>3</td>\n",
       "      <td>1.0</td>\n",
       "      <td>1.0</td>\n",
       "      <td>1.0</td>\n",
       "      <td>1.00</td>\n",
       "      <td>0.0</td>\n",
       "      <td>0</td>\n",
       "      <td>24</td>\n",
       "      <td>1</td>\n",
       "      <td>1</td>\n",
       "      <td>1.00</td>\n",
       "      <td>0</td>\n",
       "      <td>0</td>\n",
       "      <td>56.0</td>\n",
       "    </tr>\n",
       "  </tbody>\n",
       "</table>\n",
       "</div>"
      ],
      "text/plain": [
       "        id        lat       long  property_type  room_type  people  reviews  \\\n",
       "0  6265611  45.470377 -73.615515             10          1       2       18   \n",
       "1  9138070  45.520309 -73.561487              0          0       4        0   \n",
       "2  5236198  45.520119 -73.559368              0          1       2        0   \n",
       "3  6337948  45.527408 -73.557949              0          1       2       30   \n",
       "4  7931203  45.559480 -73.571488              0          1       2        3   \n",
       "\n",
       "   bedrooms  bathrooms  no. beds  response rate  superhost  verified identity  \\\n",
       "0       1.0        1.0       1.0           1.00        0.0                  0   \n",
       "1       2.0        1.0       2.0           0.83        0.0                  0   \n",
       "2       1.0        1.0       1.0           0.00        0.0                  0   \n",
       "3       1.0        1.0       1.0           1.00        1.0                  1   \n",
       "4       1.0        1.0       1.0           1.00        0.0                  0   \n",
       "\n",
       "   neighbourhood  guests  min_nights  review rating  instant bookable  \\\n",
       "0              5       1           2           0.87                 0   \n",
       "1             29       1           3           0.00                 0   \n",
       "2             29       1           1           0.00                 0   \n",
       "3             29       1           2           0.98                 1   \n",
       "4             24       1           1           1.00                 0   \n",
       "\n",
       "   cancellation_cat  price  \n",
       "0                 2   30.0  \n",
       "1                 0  100.0  \n",
       "2                 3   45.0  \n",
       "3                 2   55.0  \n",
       "4                 0   56.0  "
      ]
     },
     "execution_count": 466,
     "metadata": {},
     "output_type": "execute_result"
    }
   ],
   "source": [
    "temp = result[\"price\"]\n",
    "count_nan = len(features) - features.count()\n",
    "count_nan\n",
    "result.head()"
   ]
  },
  {
   "cell_type": "markdown",
   "metadata": {},
   "source": [
    "# Result\n",
    "So basically, we have the ID's, lat, long and then a bunch of columns of features(X vector) and then we have Price as the last column which will be our Y\n",
    "\n",
    "This is done for Nov-Dec 2016.\n",
    "Now to integrate with the other feature vectors and get the neural net working"
   ]
  },
  {
   "cell_type": "code",
   "execution_count": 459,
   "metadata": {
    "collapsed": true
   },
   "outputs": [],
   "source": [
    "#setting x_train, x_test, y_train, y_test \n",
    "def setTestTrain(featuresDf, splitLast):\n",
    "    \n",
    "    x_train = featuresDf.values[:-splitLast]\n",
    "    \n",
    "    y_train = result[\"price\"].values[:-splitLast]\n",
    "    \n",
    "    x_test = featuresDf.values[-splitLast:]\n",
    "    y_test = result[\"price\"].values[-splitLast:]\n",
    "    \n",
    "    #x_train = np.reshape(x_train, (x_train.shape[0], x_train.shape[1], 1))\n",
    "    #x_test = np.reshape(x_test, (x_test.shape[0], x_test.shape[1], 1))  \n",
    "\n",
    "\n",
    "    return x_train, y_train, x_test, y_test\n",
    "def root_mean_squared_error(y_true, y_pred):\n",
    "        return K.sqrt(K.mean(K.square(y_pred - y_true), axis=-1)) \n",
    "\n",
    "\n",
    "#building model\n",
    "def build_model(layer1, layer2, layer3, layer4):\n",
    "    model = Sequential()\n",
    "    model.add(Dense(layer1, input_dim=18, activation='selu',kernel_initializer='he_normal'))\n",
    "    model.add(BatchNormalization())\n",
    "    model.add(Dropout(0.2))\n",
    "\n",
    "    model.add(Dense(layer2, activation='selu',kernel_initializer='he_normal'))\n",
    "    model.add(BatchNormalization())\n",
    "    model.add(Dropout(0.2))\n",
    "    \n",
    "\n",
    "    model.add(Dense(layer3, activation='selu',kernel_initializer='he_normal'))\n",
    "    model.add(BatchNormalization())\n",
    "    model.add(Dropout(0.2))\n",
    "    \n",
    "    model.add(Dense(layer4, activation='selu',kernel_initializer='he_normal'))\n",
    "    model.add(BatchNormalization())\n",
    "    model.add(Dropout(0.2))\n",
    "    \n",
    "    \n",
    "    model.add(Dense(1, activation='linear'))\n",
    "    \n",
    "    #compile\n",
    "    start = time.time()\n",
    "    model.compile(loss=root_mean_squared_error, optimizer=\"adamax\",metrics =[\"mse\"])\n",
    "    print(\"> Compilation Time : \", time.time() - start)\n",
    "    return model"
   ]
  },
  {
   "cell_type": "code",
   "execution_count": 498,
   "metadata": {
    "collapsed": true
   },
   "outputs": [],
   "source": [
    "x_train, y_train, x_test, y_test = setTestTrain(features, 1150)\n",
    "std_x_train = StandardScaler().fit_transform(x_train, y = y_train)\n",
    "std_x_test = StandardScaler().fit_transform(x_test, y = y_test)\n",
    "min_x_train = MinMaxScaler(feature_range=(0, 1)).fit_transform(x_train, y = y_train)\n",
    "min_x_test = MinMaxScaler(feature_range=(0,1)).fit_transform(x_test, y = y_test)"
   ]
  },
  {
   "cell_type": "code",
   "execution_count": 491,
   "metadata": {
    "collapsed": false
   },
   "outputs": [
    {
     "name": "stdout",
     "output_type": "stream",
     "text": [
      "> Compilation Time :  0.08079886436462402\n",
      "_________________________________________________________________\n",
      "Layer (type)                 Output Shape              Param #   \n",
      "=================================================================\n",
      "dense_67 (Dense)             (None, 512)               9728      \n",
      "_________________________________________________________________\n",
      "batch_normalization_31 (Batc (None, 512)               2048      \n",
      "_________________________________________________________________\n",
      "dropout_47 (Dropout)         (None, 512)               0         \n",
      "_________________________________________________________________\n",
      "dense_68 (Dense)             (None, 256)               131328    \n",
      "_________________________________________________________________\n",
      "batch_normalization_32 (Batc (None, 256)               1024      \n",
      "_________________________________________________________________\n",
      "dropout_48 (Dropout)         (None, 256)               0         \n",
      "_________________________________________________________________\n",
      "dense_69 (Dense)             (None, 128)               32896     \n",
      "_________________________________________________________________\n",
      "batch_normalization_33 (Batc (None, 128)               512       \n",
      "_________________________________________________________________\n",
      "dropout_49 (Dropout)         (None, 128)               0         \n",
      "_________________________________________________________________\n",
      "dense_70 (Dense)             (None, 64)                8256      \n",
      "_________________________________________________________________\n",
      "batch_normalization_34 (Batc (None, 64)                256       \n",
      "_________________________________________________________________\n",
      "dropout_50 (Dropout)         (None, 64)                0         \n",
      "_________________________________________________________________\n",
      "dense_71 (Dense)             (None, 1)                 65        \n",
      "=================================================================\n",
      "Total params: 186,113\n",
      "Trainable params: 184,193\n",
      "Non-trainable params: 1,920\n",
      "_________________________________________________________________\n"
     ]
    }
   ],
   "source": [
    "\n",
    "model = build_model(512,256,128,64)\n",
    "model.summary()"
   ]
  },
  {
   "cell_type": "code",
   "execution_count": 496,
   "metadata": {
    "collapsed": false
   },
   "outputs": [],
   "source": [
    "# checkpoint\n",
    "filepath=\"weights-improvement-{epoch:02d}-{val_loss:.2f}.hdf5\"\n",
    "checkpoint = ModelCheckpoint(filepath, monitor='val_loss', verbose=1, save_best_only=True, mode='min')\n",
    "reduce_lr = ReduceLROnPlateau(monitor='val_loss', factor=0.5, patience=5, min_lr=0.000001, verbose = 2)\n",
    "\n",
    "callbacks_list = [checkpoint, reduce_lr]"
   ]
  },
  {
   "cell_type": "code",
   "execution_count": 502,
   "metadata": {
    "collapsed": false
   },
   "outputs": [
    {
     "name": "stdout",
     "output_type": "stream",
     "text": [
      "Train on 3786 samples, validate on 947 samples\n",
      "Epoch 1/50\n",
      "3784/3786 [============================>.] - ETA: 0s - loss: 43.7975 - mean_squared_error: 45245.7893Epoch 00000: val_loss did not improve\n",
      "3786/3786 [==============================] - 6s - loss: 43.8079 - mean_squared_error: 45224.3623 - val_loss: 34.4568 - val_mean_squared_error: 6651.1370\n",
      "Epoch 2/50\n",
      "3752/3786 [============================>.] - ETA: 0s - loss: 43.6808 - mean_squared_error: 45523.6302Epoch 00001: val_loss did not improve\n",
      "3786/3786 [==============================] - 6s - loss: 43.6586 - mean_squared_error: 45163.7501 - val_loss: 34.2680 - val_mean_squared_error: 6596.4190\n",
      "Epoch 3/50\n",
      "3776/3786 [============================>.] - ETA: 0s - loss: 43.9602 - mean_squared_error: 45264.2021Epoch 00002: val_loss did not improve\n",
      "3786/3786 [==============================] - 6s - loss: 43.9574 - mean_squared_error: 45152.6125 - val_loss: 34.2763 - val_mean_squared_error: 6524.5703\n",
      "Epoch 4/50\n",
      "3784/3786 [============================>.] - ETA: 0s - loss: 43.6363 - mean_squared_error: 45526.6923Epoch 00003: val_loss did not improve\n",
      "3786/3786 [==============================] - 6s - loss: 43.6301 - mean_squared_error: 45503.1870 - val_loss: 34.3671 - val_mean_squared_error: 6602.1923\n",
      "Epoch 5/50\n",
      "3776/3786 [============================>.] - ETA: 0s - loss: 43.8592 - mean_squared_error: 45255.7105Epoch 00004: val_loss did not improve\n",
      "3786/3786 [==============================] - 6s - loss: 43.8694 - mean_squared_error: 45145.4625 - val_loss: 34.1999 - val_mean_squared_error: 6567.9971\n",
      "Epoch 6/50\n",
      "3784/3786 [============================>.] - ETA: 0s - loss: 43.9394 - mean_squared_error: 45425.4142Epoch 00005: val_loss did not improve\n",
      "3786/3786 [==============================] - 6s - loss: 43.9281 - mean_squared_error: 45401.7310 - val_loss: 34.3002 - val_mean_squared_error: 6569.9052\n",
      "Epoch 7/50\n",
      "3784/3786 [============================>.] - ETA: 0s - loss: 43.4749 - mean_squared_error: 45252.1123Epoch 00006: val_loss did not improve\n",
      "3786/3786 [==============================] - 6s - loss: 43.4642 - mean_squared_error: 45228.5258 - val_loss: 34.2157 - val_mean_squared_error: 6565.8404\n",
      "Epoch 8/50\n",
      "3760/3786 [============================>.] - ETA: 0s - loss: 43.0078 - mean_squared_error: 45226.9428Epoch 00007: val_loss did not improve\n",
      "3786/3786 [==============================] - 6s - loss: 42.9963 - mean_squared_error: 44975.5757 - val_loss: 34.2177 - val_mean_squared_error: 6553.4697\n",
      "Epoch 9/50\n",
      "3784/3786 [============================>.] - ETA: 0s - loss: 43.0782 - mean_squared_error: 45299.2908Epoch 00008: val_loss did not improve\n",
      "3786/3786 [==============================] - 6s - loss: 43.0834 - mean_squared_error: 45276.8524 - val_loss: 34.2204 - val_mean_squared_error: 6503.1428\n",
      "Epoch 10/50\n",
      "3784/3786 [============================>.] - ETA: 0s - loss: 43.6694 - mean_squared_error: 45004.7502Epoch 00009: val_loss did not improve\n",
      "3786/3786 [==============================] - 6s - loss: 43.6680 - mean_squared_error: 44982.4803 - val_loss: 34.2038 - val_mean_squared_error: 6553.0603\n",
      "Epoch 11/50\n",
      "3776/3786 [============================>.] - ETA: 0s - loss: 43.4127 - mean_squared_error: 45330.2134Epoch 00010: val_loss did not improve\n",
      "3786/3786 [==============================] - 6s - loss: 43.4540 - mean_squared_error: 45229.1081 - val_loss: 34.1495 - val_mean_squared_error: 6524.0124\n",
      "Epoch 12/50\n",
      "3784/3786 [============================>.] - ETA: 0s - loss: 43.4232 - mean_squared_error: 45116.9651Epoch 00011: val_loss did not improve\n",
      "3786/3786 [==============================] - 6s - loss: 43.4085 - mean_squared_error: 45093.2591 - val_loss: 34.1732 - val_mean_squared_error: 6522.3506\n",
      "Epoch 13/50\n",
      "3784/3786 [============================>.] - ETA: 0s - loss: 43.4076 - mean_squared_error: 45184.7791Epoch 00012: val_loss did not improve\n",
      "3786/3786 [==============================] - 6s - loss: 43.4041 - mean_squared_error: 45161.8224 - val_loss: 34.1277 - val_mean_squared_error: 6522.5832\n",
      "Epoch 14/50\n",
      "3768/3786 [============================>.] - ETA: 0s - loss: 43.8042 - mean_squared_error: 45442.2652Epoch 00013: val_loss did not improve\n",
      "3786/3786 [==============================] - 6s - loss: 43.7542 - mean_squared_error: 45234.7355 - val_loss: 34.0243 - val_mean_squared_error: 6471.9061\n",
      "Epoch 15/50\n",
      "3768/3786 [============================>.] - ETA: 0s - loss: 43.5546 - mean_squared_error: 45354.2689Epoch 00014: val_loss did not improve\n",
      "3786/3786 [==============================] - 6s - loss: 43.4947 - mean_squared_error: 45145.3921 - val_loss: 34.0951 - val_mean_squared_error: 6572.7693\n",
      "Epoch 16/50\n",
      "3752/3786 [============================>.] - ETA: 0s - loss: 43.3509 - mean_squared_error: 45299.5328Epoch 00015: val_loss did not improve\n",
      "3786/3786 [==============================] - 5s - loss: 43.2195 - mean_squared_error: 44905.9224 - val_loss: 34.0251 - val_mean_squared_error: 6468.6709\n",
      "Epoch 17/50\n",
      "3776/3786 [============================>.] - ETA: 0s - loss: 43.1630 - mean_squared_error: 45297.3191Epoch 00016: val_loss did not improve\n",
      "3786/3786 [==============================] - 5s - loss: 43.1833 - mean_squared_error: 45192.9013 - val_loss: 34.0254 - val_mean_squared_error: 6510.3790\n",
      "Epoch 18/50\n",
      "3768/3786 [============================>.] - ETA: 0s - loss: 43.5537 - mean_squared_error: 45485.1517Epoch 00017: val_loss did not improve\n",
      "3786/3786 [==============================] - 5s - loss: 43.5508 - mean_squared_error: 45286.3789 - val_loss: 34.0640 - val_mean_squared_error: 6524.6682\n",
      "Epoch 19/50\n",
      "3784/3786 [============================>.] - ETA: 0s - loss: 43.6439 - mean_squared_error: 45403.6973Epoch 00018: val_loss did not improve\n",
      "3786/3786 [==============================] - 5s - loss: 43.6632 - mean_squared_error: 45385.4431 - val_loss: 33.9462 - val_mean_squared_error: 6463.1820\n",
      "Epoch 20/50\n",
      "3776/3786 [============================>.] - ETA: 0s - loss: 43.3857 - mean_squared_error: 45272.2670Epoch 00019: val_loss did not improve\n",
      "3786/3786 [==============================] - 5s - loss: 43.3468 - mean_squared_error: 45156.3044 - val_loss: 34.0178 - val_mean_squared_error: 6474.5170\n",
      "Epoch 21/50\n",
      "3776/3786 [============================>.] - ETA: 0s - loss: 43.2260 - mean_squared_error: 45166.0490Epoch 00020: val_loss did not improve\n",
      "3786/3786 [==============================] - 6s - loss: 43.1735 - mean_squared_error: 45048.7109 - val_loss: 33.9363 - val_mean_squared_error: 6472.7408\n",
      "Epoch 22/50\n",
      "3752/3786 [============================>.] - ETA: 0s - loss: 43.6098 - mean_squared_error: 45499.4234Epoch 00021: val_loss did not improve\n",
      "3786/3786 [==============================] - 5s - loss: 43.7169 - mean_squared_error: 45335.7948 - val_loss: 33.9444 - val_mean_squared_error: 6501.6901\n",
      "Epoch 23/50\n",
      "3760/3786 [============================>.] - ETA: 0s - loss: 43.1577 - mean_squared_error: 45080.1480Epoch 00022: val_loss did not improve\n",
      "3786/3786 [==============================] - 5s - loss: 43.2915 - mean_squared_error: 45059.7002 - val_loss: 33.9357 - val_mean_squared_error: 6469.7312\n",
      "Epoch 24/50\n",
      "3752/3786 [============================>.] - ETA: 0s - loss: 43.4765 - mean_squared_error: 45725.7792Epoch 00023: val_loss did not improve\n",
      "3786/3786 [==============================] - 5s - loss: 43.3226 - mean_squared_error: 45330.6155 - val_loss: 33.8533 - val_mean_squared_error: 6491.1843\n",
      "Epoch 25/50\n",
      "3768/3786 [============================>.] - ETA: 0s - loss: 42.5445 - mean_squared_error: 39090.3020Epoch 00024: val_loss did not improve\n",
      "3786/3786 [==============================] - 5s - loss: 43.7165 - mean_squared_error: 45083.8846 - val_loss: 33.9112 - val_mean_squared_error: 6418.6515\n",
      "Epoch 26/50\n",
      "3760/3786 [============================>.] - ETA: 0s - loss: 43.4886 - mean_squared_error: 45396.1990Epoch 00025: val_loss did not improve\n",
      "3786/3786 [==============================] - 6s - loss: 43.4339 - mean_squared_error: 45107.5552 - val_loss: 33.9049 - val_mean_squared_error: 6465.8870\n",
      "Epoch 27/50\n",
      "3768/3786 [============================>.] - ETA: 0s - loss: 43.3197 - mean_squared_error: 45356.4943Epoch 00026: val_loss did not improve\n",
      "3786/3786 [==============================] - 5s - loss: 43.4840 - mean_squared_error: 45284.9499 - val_loss: 33.8933 - val_mean_squared_error: 6438.1829\n",
      "Epoch 28/50\n",
      "3768/3786 [============================>.] - ETA: 0s - loss: 43.2276 - mean_squared_error: 45332.5217Epoch 00027: val_loss did not improve\n",
      "3786/3786 [==============================] - 5s - loss: 43.2059 - mean_squared_error: 45140.1216 - val_loss: 33.8355 - val_mean_squared_error: 6445.2032\n",
      "Epoch 29/50\n",
      "3760/3786 [============================>.] - ETA: 0s - loss: 43.4077 - mean_squared_error: 45423.9570Epoch 00028: val_loss did not improve\n",
      "3786/3786 [==============================] - 5s - loss: 43.3172 - mean_squared_error: 45125.6483 - val_loss: 33.8984 - val_mean_squared_error: 6472.4948\n",
      "Epoch 30/50\n",
      "3784/3786 [============================>.] - ETA: 0s - loss: 43.5328 - mean_squared_error: 45193.6643Epoch 00029: val_loss did not improve\n",
      "3786/3786 [==============================] - 5s - loss: 43.5232 - mean_squared_error: 45170.2084 - val_loss: 33.7676 - val_mean_squared_error: 6478.5817\n",
      "Epoch 31/50\n",
      "3768/3786 [============================>.] - ETA: 0s - loss: 43.4264 - mean_squared_error: 45082.7626Epoch 00030: val_loss did not improve\n",
      "3786/3786 [==============================] - 5s - loss: 43.4798 - mean_squared_error: 44915.9768 - val_loss: 33.7706 - val_mean_squared_error: 6408.8299\n",
      "Epoch 32/50\n",
      "3784/3786 [============================>.] - ETA: 0s - loss: 42.9919 - mean_squared_error: 45338.3522Epoch 00031: val_loss did not improve\n",
      "3786/3786 [==============================] - 5s - loss: 43.0019 - mean_squared_error: 45317.5021 - val_loss: 33.8228 - val_mean_squared_error: 6488.2250\n",
      "Epoch 33/50\n",
      "3776/3786 [============================>.] - ETA: 0s - loss: 43.4553 - mean_squared_error: 45403.4830Epoch 00032: val_loss did not improve\n",
      "3786/3786 [==============================] - 5s - loss: 43.3795 - mean_squared_error: 45284.5563 - val_loss: 33.7314 - val_mean_squared_error: 6423.3434\n",
      "Epoch 34/50\n",
      "3760/3786 [============================>.] - ETA: 0s - loss: 43.0272 - mean_squared_error: 45398.3852Epoch 00033: val_loss did not improve\n",
      "3786/3786 [==============================] - 5s - loss: 42.9948 - mean_squared_error: 45122.2806 - val_loss: 33.7882 - val_mean_squared_error: 6492.0924\n",
      "Epoch 35/50\n",
      "3776/3786 [============================>.] - ETA: 0s - loss: 43.0957 - mean_squared_error: 45122.5511Epoch 00034: val_loss did not improve\n",
      "3786/3786 [==============================] - 5s - loss: 43.1217 - mean_squared_error: 45017.0991 - val_loss: 33.7506 - val_mean_squared_error: 6392.3376\n",
      "Epoch 36/50\n",
      "3784/3786 [============================>.] - ETA: 0s - loss: 43.2856 - mean_squared_error: 44993.9056Epoch 00035: val_loss did not improve\n",
      "3786/3786 [==============================] - 5s - loss: 43.2724 - mean_squared_error: 44970.4180 - val_loss: 33.7348 - val_mean_squared_error: 6449.8080\n",
      "Epoch 37/50\n",
      "3768/3786 [============================>.] - ETA: 0s - loss: 43.3735 - mean_squared_error: 45152.0109Epoch 00036: val_loss did not improve\n",
      "3786/3786 [==============================] - 5s - loss: 43.4627 - mean_squared_error: 45007.8458 - val_loss: 33.6512 - val_mean_squared_error: 6435.5405\n",
      "Epoch 38/50\n",
      "3784/3786 [============================>.] - ETA: 0s - loss: 43.2717 - mean_squared_error: 45168.8820Epoch 00037: val_loss did not improve\n",
      "3786/3786 [==============================] - 5s - loss: 43.2604 - mean_squared_error: 45145.2737 - val_loss: 33.7628 - val_mean_squared_error: 6396.1035\n",
      "Epoch 39/50\n",
      "3760/3786 [============================>.] - ETA: 0s - loss: 43.2696 - mean_squared_error: 45648.8507Epoch 00038: val_loss did not improve\n",
      "3786/3786 [==============================] - 5s - loss: 43.1420 - mean_squared_error: 45347.5670 - val_loss: 33.7078 - val_mean_squared_error: 6433.4050\n",
      "Epoch 40/50\n",
      "3768/3786 [============================>.] - ETA: 0s - loss: 43.4456 - mean_squared_error: 45539.2599Epoch 00039: val_loss did not improve\n",
      "3786/3786 [==============================] - 5s - loss: 43.4295 - mean_squared_error: 45343.0317 - val_loss: 33.6518 - val_mean_squared_error: 6434.1604\n",
      "Epoch 41/50\n",
      "3752/3786 [============================>.] - ETA: 0s - loss: 43.0996 - mean_squared_error: 45230.9612Epoch 00040: val_loss did not improve\n",
      "3786/3786 [==============================] - 5s - loss: 43.0596 - mean_squared_error: 44869.8722 - val_loss: 33.6075 - val_mean_squared_error: 6393.9960\n",
      "Epoch 42/50\n",
      "3760/3786 [============================>.] - ETA: 0s - loss: 43.4039 - mean_squared_error: 45341.7304Epoch 00041: val_loss did not improve\n",
      "3786/3786 [==============================] - 5s - loss: 43.3347 - mean_squared_error: 45074.3054 - val_loss: 33.7075 - val_mean_squared_error: 6422.1051\n",
      "Epoch 43/50\n",
      "3744/3786 [============================>.] - ETA: 0s - loss: 43.0267 - mean_squared_error: 45447.2667Epoch 00042: val_loss did not improve\n",
      "3786/3786 [==============================] - 5s - loss: 43.1240 - mean_squared_error: 45045.6352 - val_loss: 33.5236 - val_mean_squared_error: 6388.1016\n",
      "Epoch 44/50\n",
      "3768/3786 [============================>.] - ETA: 0s - loss: 42.9864 - mean_squared_error: 45156.2350Epoch 00043: val_loss did not improve\n",
      "3786/3786 [==============================] - 5s - loss: 42.8937 - mean_squared_error: 44945.8475 - val_loss: 33.6168 - val_mean_squared_error: 6404.3918\n",
      "Epoch 45/50\n",
      "3752/3786 [============================>.] - ETA: 0s - loss: 43.0266 - mean_squared_error: 45269.9175Epoch 00044: val_loss did not improve\n",
      "3786/3786 [==============================] - 5s - loss: 43.3069 - mean_squared_error: 45125.5861 - val_loss: 33.6280 - val_mean_squared_error: 6363.6883\n",
      "Epoch 46/50\n",
      "3752/3786 [============================>.] - ETA: 0s - loss: 43.1937 - mean_squared_error: 45523.0664Epoch 00045: val_loss did not improve\n",
      "3786/3786 [==============================] - 5s - loss: 43.0950 - mean_squared_error: 45134.9150 - val_loss: 33.6826 - val_mean_squared_error: 6456.9556\n",
      "Epoch 47/50\n",
      "3768/3786 [============================>.] - ETA: 0s - loss: 43.3733 - mean_squared_error: 45382.2255Epoch 00046: val_loss did not improve\n",
      "3786/3786 [==============================] - 5s - loss: 43.3099 - mean_squared_error: 45179.4939 - val_loss: 33.5973 - val_mean_squared_error: 6421.8867\n",
      "Epoch 48/50\n",
      "3784/3786 [============================>.] - ETA: 0s - loss: 43.2266 - mean_squared_error: 45202.8777Epoch 00047: val_loss did not improve\n",
      "3786/3786 [==============================] - 6s - loss: 43.2229 - mean_squared_error: 45179.7081 - val_loss: 33.5184 - val_mean_squared_error: 6374.1600\n",
      "Epoch 49/50\n",
      "3768/3786 [============================>.] - ETA: 0s - loss: 43.1988 - mean_squared_error: 45369.8642Epoch 00048: val_loss did not improve\n",
      "3786/3786 [==============================] - 5s - loss: 43.1007 - mean_squared_error: 45157.9826 - val_loss: 33.5768 - val_mean_squared_error: 6390.8097\n",
      "Epoch 50/50\n",
      "3784/3786 [============================>.] - ETA: 0s - loss: 43.1306 - mean_squared_error: 45133.2764Epoch 00049: val_loss did not improve\n",
      "3786/3786 [==============================] - 5s - loss: 43.1476 - mean_squared_error: 45112.4501 - val_loss: 33.5137 - val_mean_squared_error: 6401.4147\n"
     ]
    },
    {
     "data": {
      "text/plain": [
       "<keras.callbacks.History at 0x15fb499b0>"
      ]
     },
     "execution_count": 502,
     "metadata": {},
     "output_type": "execute_result"
    }
   ],
   "source": [
    "model.fit(min_x_train, y_train, epochs=50, batch_size=8, validation_split = 0.2, callbacks=callbacks_list, verbose=1)"
   ]
  },
  {
   "cell_type": "markdown",
   "metadata": {},
   "source": [
    "#### notes for tuning the neural net\n",
    "pca, tsne, check features, go through feature selection algorithms\n",
    "batch norm, dropout\n",
    "xgboost, 3 layer 256 , relu, adamax, linear decay small, input then dropout\n",
    "shuffle before feeding into network\n"
   ]
  },
  {
   "cell_type": "code",
   "execution_count": 506,
   "metadata": {
    "collapsed": false
   },
   "outputs": [
    {
     "data": {
      "text/plain": [
       "array([[ 46.34048462],\n",
       "       [ 39.39505005],\n",
       "       [ 39.85923767],\n",
       "       ..., \n",
       "       [ 38.06424713],\n",
       "       [ 69.85340881],\n",
       "       [ 64.82348633]], dtype=float32)"
      ]
     },
     "execution_count": 506,
     "metadata": {},
     "output_type": "execute_result"
    }
   ],
   "source": [
    "model.predict(min_x_test)"
   ]
  },
  {
   "cell_type": "code",
   "execution_count": 507,
   "metadata": {
    "collapsed": false
   },
   "outputs": [
    {
     "data": {
      "text/plain": [
       "array([ 60.,  80.,  40., ...,  35.,  60.,  75.])"
      ]
     },
     "execution_count": 507,
     "metadata": {},
     "output_type": "execute_result"
    }
   ],
   "source": [
    "y_test"
   ]
  },
  {
   "cell_type": "code",
   "execution_count": 484,
   "metadata": {
    "collapsed": false
   },
   "outputs": [],
   "source": [
    "#exporting coordinates\n",
    "coords = pd.DataFrame()\n",
    "coords[\"lat\"] = result[\"lat\"]\n",
    "coords[\"long\"] = result[\"long\"]\n",
    "coords.to_csv(\"coords.csv\")"
   ]
  },
  {
   "cell_type": "markdown",
   "metadata": {},
   "source": [
    "xtrain min max scaling (0,1)\n",
    "\n",
    "xtrain standard scaling\n"
   ]
  },
  {
   "cell_type": "code",
   "execution_count": 495,
   "metadata": {
    "collapsed": false
   },
   "outputs": [
    {
     "data": {
      "text/plain": [
       "array([[ 0.199861  ,  0.70238025,  0.73333333, ...,  0.87      ,\n",
       "         0.        ,  0.66666667],\n",
       "       [ 0.37612587,  0.82918874,  0.06666667, ...,  0.        ,\n",
       "         0.        ,  0.        ],\n",
       "       [ 0.37545306,  0.83416184,  0.06666667, ...,  0.        ,\n",
       "         0.        ,  1.        ],\n",
       "       ..., \n",
       "       [ 0.44059768,  0.79760421,  0.06666667, ...,  0.96      ,\n",
       "         0.        ,  1.        ],\n",
       "       [ 0.2826783 ,  0.82710837,  0.06666667, ...,  0.96      ,\n",
       "         0.        ,  1.        ],\n",
       "       [ 0.40604298,  0.80567841,  0.06666667, ...,  0.        ,\n",
       "         0.        ,  0.        ]])"
      ]
     },
     "execution_count": 495,
     "metadata": {},
     "output_type": "execute_result"
    }
   ],
   "source": []
  },
  {
   "cell_type": "code",
   "execution_count": null,
   "metadata": {
    "collapsed": true
   },
   "outputs": [],
   "source": []
  }
 ],
 "metadata": {
  "anaconda-cloud": {},
  "kernelspec": {
   "display_name": "Python [conda env:snakes]",
   "language": "python",
   "name": "conda-env-snakes-py"
  },
  "language_info": {
   "codemirror_mode": {
    "name": "ipython",
    "version": 3
   },
   "file_extension": ".py",
   "mimetype": "text/x-python",
   "name": "python",
   "nbconvert_exporter": "python",
   "pygments_lexer": "ipython3",
   "version": "3.5.0"
  }
 },
 "nbformat": 4,
 "nbformat_minor": 1
}
