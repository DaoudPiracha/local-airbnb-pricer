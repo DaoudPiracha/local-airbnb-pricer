{
 "cells": [
  {
   "cell_type": "code",
   "execution_count": 104,
   "metadata": {
    "collapsed": true
   },
   "outputs": [],
   "source": [
    "import pandas as pd\n",
    "%matplotlib inline\n",
    "\n",
    "import matplotlib\n",
    "import numpy as np\n",
    "import matplotlib.pyplot as plt"
   ]
  },
  {
   "cell_type": "code",
   "execution_count": 140,
   "metadata": {
    "collapsed": false
   },
   "outputs": [],
   "source": [
    "df = pd.read_csv(\"./Montreal AirBnb/listings.csv\")\n",
    "df2 = pd.read_csv(\"./Montreal AirBnb/calendar.csv\")\n",
    "df3 = pd.read_csv(\"./Montreal AirBnb/reviews.csv\")"
   ]
  },
  {
   "cell_type": "code",
   "execution_count": 260,
   "metadata": {
    "collapsed": false
   },
   "outputs": [],
   "source": [
    "finaldf = pd.DataFrame()"
   ]
  },
  {
   "cell_type": "code",
   "execution_count": 324,
   "metadata": {
    "collapsed": false
   },
   "outputs": [],
   "source": [
    "finaldf[\"id\"]= df[\"id\"]\n",
    "finaldf[\"lat\"] = df[\"latitude\"]\n",
    "finaldf[\"long\"] = df[\"longitude\"]\n",
    "finaldf[\"property_type\"]=df[\"property_type\"]\n",
    "finaldf = labeler(\"property_type\")\n",
    "finaldf[\"room_type\"] =df[\"room_type\"]\n",
    "finaldf = labeler(\"room_type\")\n",
    "finaldf[\"people\"]=df[\"accommodates\"]\n",
    "finaldf[\"reviews\"] = df[\"number_of_reviews\"]\n",
    "finaldf[\"bedrooms\"] = df[\"bedrooms\"]\n",
    "finaldf[\"bathrooms\"]=df[\"bathrooms\"]\n",
    "finaldf[\"no. beds\"] = df[\"beds\"]\n",
    "finaldf[\"response rate\"]= df[\"host_response_rate\"].fillna(0)\n",
    "finaldf[\"superhost\"] = df[\"host_is_superhost\"]\n",
    "finaldf[\"verified identity\"] = df[\"host_identity_verified\"]\n",
    "finaldf[\"neighbourhood\"]=df[\"neighbourhood_cleansed\"]\n",
    "finaldf = labeler(\"neighbourhood\")\n",
    "finaldf[\"guests\"]= df[\"guests_included\"]\n",
    "#final[\"guests charged\"] = \n",
    "finaldf[\"min_nights\"]=df[\"minimum_nights\"]\n",
    "finaldf[\"review rating\"] = (df[\"review_scores_rating\"]/100).fillna(0)\n",
    "finaldf[\"instant bookable\"]=df[\"instant_bookable\"]\n",
    "finaldf[\"cancellation_cat\"] = df[\"cancellation_policy\"]\n",
    "finaldf = labeler(\"cancellation_cat\")\n",
    "\n",
    "#use lat long to count no. of competitiors with same radius(or square window)\n",
    "\n",
    "#finaldf[\"price\"]=df[\"price\"]\n",
    "\n",
    "finaldf = finaldf.replace({'superhost': {'t': 1, 'f': 0}})\n",
    "finaldf = finaldf.replace({'verified identity': {'t': 1, 'f': 0}})\n",
    "finaldf = finaldf.replace({'instant bookable':{'t':1, 'f':0}})\n",
    "#finaldf = finaldf.replace({'cancellation policy':{'flexible':1,'moderate':2,'strict':3}})\n",
    "#finaldf[\"cancellation_cat\"] = finaldf[\"cancellation_cat\"].astype('category')\n",
    "#finaldf[\"cancellation_cat\"] = finaldf[\"cancellation_cat\"].cat.codes\n",
    "\n"
   ]
  },
  {
   "cell_type": "code",
   "execution_count": 325,
   "metadata": {
    "collapsed": false
   },
   "outputs": [],
   "source": [
    "#df2.fillna(-1)\n",
    "#final[\"avg. price\"] = \n",
    "pandas.set_option('display.max_columns', None)\n"
   ]
  },
  {
   "cell_type": "code",
   "execution_count": 326,
   "metadata": {
    "collapsed": false
   },
   "outputs": [],
   "source": [
    "def labeler(name):\n",
    "    finaldf[name]=finaldf[name].astype('category')\n",
    "    finaldf[name]=finaldf[name].cat.codes\n",
    "    return finaldf"
   ]
  },
  {
   "cell_type": "code",
   "execution_count": 158,
   "metadata": {
    "collapsed": false
   },
   "outputs": [],
   "source": [
    "lat = finaldf[\"lat\"]\n",
    "long = finaldf[\"long\"]\n"
   ]
  },
  {
   "cell_type": "code",
   "execution_count": 159,
   "metadata": {
    "collapsed": false
   },
   "outputs": [],
   "source": [
    "#finaldf.plot(kind = \"scatter\", x='lat', y='long', figsize=(20,10));"
   ]
  },
  {
   "cell_type": "code",
   "execution_count": 201,
   "metadata": {
    "collapsed": false
   },
   "outputs": [],
   "source": [
    "#finaldf.head()"
   ]
  },
  {
   "cell_type": "code",
   "execution_count": 202,
   "metadata": {
    "collapsed": false
   },
   "outputs": [],
   "source": [
    "#for i in range(0,111):\n",
    "#    print(\"_________\")\n",
    "#    print(df2[(i*365):((i+1)*365)][\"price\"].dropna().describe())   "
   ]
  },
  {
   "cell_type": "code",
   "execution_count": 358,
   "metadata": {
    "collapsed": false
   },
   "outputs": [
    {
     "data": {
      "text/html": [
       "<div>\n",
       "<style>\n",
       "    .dataframe thead tr:only-child th {\n",
       "        text-align: right;\n",
       "    }\n",
       "\n",
       "    .dataframe thead th {\n",
       "        text-align: left;\n",
       "    }\n",
       "\n",
       "    .dataframe tbody tr th {\n",
       "        vertical-align: top;\n",
       "    }\n",
       "</style>\n",
       "<table border=\"1\" class=\"dataframe\">\n",
       "  <thead>\n",
       "    <tr style=\"text-align: right;\">\n",
       "      <th></th>\n",
       "      <th>id</th>\n",
       "      <th>lat</th>\n",
       "      <th>long</th>\n",
       "      <th>property_type</th>\n",
       "      <th>room_type</th>\n",
       "      <th>people</th>\n",
       "      <th>reviews</th>\n",
       "      <th>bedrooms</th>\n",
       "      <th>bathrooms</th>\n",
       "      <th>no. beds</th>\n",
       "      <th>response rate</th>\n",
       "      <th>superhost</th>\n",
       "      <th>verified identity</th>\n",
       "      <th>neighbourhood</th>\n",
       "      <th>guests</th>\n",
       "      <th>min_nights</th>\n",
       "      <th>review rating</th>\n",
       "      <th>instant bookable</th>\n",
       "      <th>cancellation_cat</th>\n",
       "      <th>price</th>\n",
       "    </tr>\n",
       "  </thead>\n",
       "  <tbody>\n",
       "    <tr>\n",
       "      <th>0</th>\n",
       "      <td>543823</td>\n",
       "      <td>45.520141</td>\n",
       "      <td>-73.612950</td>\n",
       "      <td>0</td>\n",
       "      <td>0</td>\n",
       "      <td>4</td>\n",
       "      <td>8</td>\n",
       "      <td>2.0</td>\n",
       "      <td>1.0</td>\n",
       "      <td>2.0</td>\n",
       "      <td>1.0</td>\n",
       "      <td>0.0</td>\n",
       "      <td>1.0</td>\n",
       "      <td>20</td>\n",
       "      <td>2</td>\n",
       "      <td>1</td>\n",
       "      <td>0.96</td>\n",
       "      <td>0</td>\n",
       "      <td>3</td>\n",
       "      <td>105.0</td>\n",
       "    </tr>\n",
       "    <tr>\n",
       "      <th>1</th>\n",
       "      <td>753348</td>\n",
       "      <td>45.520140</td>\n",
       "      <td>-73.615520</td>\n",
       "      <td>0</td>\n",
       "      <td>0</td>\n",
       "      <td>6</td>\n",
       "      <td>3</td>\n",
       "      <td>2.0</td>\n",
       "      <td>1.0</td>\n",
       "      <td>2.0</td>\n",
       "      <td>1.0</td>\n",
       "      <td>0.0</td>\n",
       "      <td>1.0</td>\n",
       "      <td>20</td>\n",
       "      <td>1</td>\n",
       "      <td>2</td>\n",
       "      <td>0.90</td>\n",
       "      <td>0</td>\n",
       "      <td>3</td>\n",
       "      <td>60.0</td>\n",
       "    </tr>\n",
       "    <tr>\n",
       "      <th>2</th>\n",
       "      <td>152630</td>\n",
       "      <td>45.517190</td>\n",
       "      <td>-73.617988</td>\n",
       "      <td>0</td>\n",
       "      <td>0</td>\n",
       "      <td>3</td>\n",
       "      <td>2</td>\n",
       "      <td>2.0</td>\n",
       "      <td>1.0</td>\n",
       "      <td>3.0</td>\n",
       "      <td>1.0</td>\n",
       "      <td>0.0</td>\n",
       "      <td>0.0</td>\n",
       "      <td>20</td>\n",
       "      <td>3</td>\n",
       "      <td>5</td>\n",
       "      <td>0.80</td>\n",
       "      <td>0</td>\n",
       "      <td>3</td>\n",
       "      <td>110.0</td>\n",
       "    </tr>\n",
       "    <tr>\n",
       "      <th>3</th>\n",
       "      <td>1564714</td>\n",
       "      <td>45.522519</td>\n",
       "      <td>-73.609020</td>\n",
       "      <td>0</td>\n",
       "      <td>0</td>\n",
       "      <td>3</td>\n",
       "      <td>9</td>\n",
       "      <td>1.0</td>\n",
       "      <td>1.5</td>\n",
       "      <td>2.0</td>\n",
       "      <td>0.9</td>\n",
       "      <td>0.0</td>\n",
       "      <td>1.0</td>\n",
       "      <td>20</td>\n",
       "      <td>1</td>\n",
       "      <td>7</td>\n",
       "      <td>0.96</td>\n",
       "      <td>0</td>\n",
       "      <td>3</td>\n",
       "      <td>50.0</td>\n",
       "    </tr>\n",
       "    <tr>\n",
       "      <th>4</th>\n",
       "      <td>6502061</td>\n",
       "      <td>45.523733</td>\n",
       "      <td>-73.612290</td>\n",
       "      <td>0</td>\n",
       "      <td>1</td>\n",
       "      <td>2</td>\n",
       "      <td>19</td>\n",
       "      <td>1.0</td>\n",
       "      <td>1.0</td>\n",
       "      <td>1.0</td>\n",
       "      <td>1.0</td>\n",
       "      <td>0.0</td>\n",
       "      <td>0.0</td>\n",
       "      <td>20</td>\n",
       "      <td>1</td>\n",
       "      <td>1</td>\n",
       "      <td>0.95</td>\n",
       "      <td>1</td>\n",
       "      <td>2</td>\n",
       "      <td>48.0</td>\n",
       "    </tr>\n",
       "  </tbody>\n",
       "</table>\n",
       "</div>"
      ],
      "text/plain": [
       "        id        lat       long  property_type  room_type  people  reviews  \\\n",
       "0   543823  45.520141 -73.612950              0          0       4        8   \n",
       "1   753348  45.520140 -73.615520              0          0       6        3   \n",
       "2   152630  45.517190 -73.617988              0          0       3        2   \n",
       "3  1564714  45.522519 -73.609020              0          0       3        9   \n",
       "4  6502061  45.523733 -73.612290              0          1       2       19   \n",
       "\n",
       "   bedrooms  bathrooms  no. beds  response rate  superhost  verified identity  \\\n",
       "0       2.0        1.0       2.0            1.0        0.0                1.0   \n",
       "1       2.0        1.0       2.0            1.0        0.0                1.0   \n",
       "2       2.0        1.0       3.0            1.0        0.0                0.0   \n",
       "3       1.0        1.5       2.0            0.9        0.0                1.0   \n",
       "4       1.0        1.0       1.0            1.0        0.0                0.0   \n",
       "\n",
       "   neighbourhood  guests  min_nights  review rating  instant bookable  \\\n",
       "0             20       2           1           0.96                 0   \n",
       "1             20       1           2           0.90                 0   \n",
       "2             20       3           5           0.80                 0   \n",
       "3             20       1           7           0.96                 0   \n",
       "4             20       1           1           0.95                 1   \n",
       "\n",
       "   cancellation_cat  price  \n",
       "0                 3  105.0  \n",
       "1                 3   60.0  \n",
       "2                 3  110.0  \n",
       "3                 3   50.0  \n",
       "4                 2   48.0  "
      ]
     },
     "execution_count": 358,
     "metadata": {},
     "output_type": "execute_result"
    }
   ],
   "source": [
    "pricedf = df2[(df2['date'] > '2016-11-01') & (df2['date'] < '2016-12-01')].dropna()\n",
    "#pricedf =pricedf[\"unique\" != True]\n",
    "pricedf[\"id\"]=pricedf[\"listing_id\"]\n",
    "pricedf[\"listing_id\"]=pricedf[\"listing_id\"].drop_duplicates()\n",
    "pricedf = pricedf.dropna()\n",
    "pricedf.head()\n",
    "result = pd.merge(finaldf, pricedf, on=\"id\")\n",
    "result = result.drop(['listing_id', 'date', 'available'], axis = 1)\n",
    "result[\"price\"] = result[\"price\"].replace([\"\\$\", ','],\"\", regex=True).astype(float)\n",
    "result[\"response rate\"] = result[\"response rate\"].replace([\"%\"],\"\", regex=True).astype(float)/100\n",
    "\n",
    "result.head()"
   ]
  },
  {
   "cell_type": "markdown",
   "metadata": {},
   "source": [
    "# Result\n",
    "So basically, we have the ID's, lat, long and then a bunch of columns of features(X vector) and then we have Price as the last column which will be our Y\n",
    "\n",
    "This is done for Nov-Dec 2016.\n",
    "Now to integrate with the other feature vectors and get the neural net working"
   ]
  },
  {
   "cell_type": "code",
   "execution_count": 263,
   "metadata": {
    "collapsed": false
   },
   "outputs": [
    {
     "data": {
      "text/plain": [
       "array([20, 11, 16, 29, 13,  8, 14, 18, 23, 24, 12, 26,  7, 10, 19,  9, 22,\n",
       "        6,  0,  4,  1, 21, 15,  5, 25,  3, 30, 31, 17, 27, 28,  2])"
      ]
     },
     "execution_count": 263,
     "metadata": {},
     "output_type": "execute_result"
    }
   ],
   "source": [
    "#finaldf[\"neighbourhood\"].unique()\n",
    "#pd.get_dummies(finaldf[\"neighbourhood\"],prefix=['neighbourhood'])\n"
   ]
  },
  {
   "cell_type": "markdown",
   "metadata": {},
   "source": [
    "pca, tsne, check features, go through feature selection algorithms\n",
    "batch norm, dropout\n",
    "xgboost, 3 layer 256 , relu, adamax, linear decay small, input then dropout\n",
    "shuffle before feeding into network\n"
   ]
  }
 ],
 "metadata": {
  "anaconda-cloud": {},
  "kernelspec": {
   "display_name": "Python [conda env:snakes]",
   "language": "python",
   "name": "conda-env-snakes-py"
  },
  "language_info": {
   "codemirror_mode": {
    "name": "ipython",
    "version": 3
   },
   "file_extension": ".py",
   "mimetype": "text/x-python",
   "name": "python",
   "nbconvert_exporter": "python",
   "pygments_lexer": "ipython3",
   "version": "3.5.0"
  }
 },
 "nbformat": 4,
 "nbformat_minor": 1
}
